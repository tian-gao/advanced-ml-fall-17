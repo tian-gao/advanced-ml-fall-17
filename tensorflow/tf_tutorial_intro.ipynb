{
 "cells": [
  {
   "cell_type": "markdown",
   "metadata": {},
   "source": [
    "# Tensorflow: introduction"
   ]
  },
  {
   "cell_type": "markdown",
   "metadata": {},
   "source": [
    "### Why tensorflow?\n",
    "\n",
    "As of today (end of 2017), there are only two widely used, up to date deep learning frameworks: [tensorflow](https://www.tensorflow.org/) and [pytorch](http://pytorch.org/). Both are python frameworks and follow similar design principles and functionality. In this course, we will be using tensorflow, as it is more mature and supported on more platforms. However, the main concepts carry over unmodified.\n",
    "\n",
    "### What is tensorflow?\n",
    "\n",
    "Tensorflow is a framework to define computations, automatically differentiate them and execute them in an efficient manner (potentially on GPUs). In order to do so, tensorflow splits the process of creating an algorithm into two steps: first *defining* the computation to be executed, and then running or *executing* the computation (on CPU or GPU).\n",
    "\n",
    "### Installing tensorflow\n",
    "\n",
    "For CPU, the installation is straightforward. We have provided an updated environment file. You may upgrade to that environment file by placing the environment file AdvML.yml in your working directory and running:\n",
    "```bash\n",
    "conda env update -f AdvML.yml\n",
    "```\n",
    "\n",
    "If you wish to install it directly into your environment, simply run `pip install tensorflow` with the environment activated."
   ]
  },
  {
   "cell_type": "markdown",
   "metadata": {},
   "source": [
    "## Defining the computation: dataflow graphs\n",
    "\n",
    "Tensorflow uses the concepts of graphs `tf.Graph` to define the computation to be executed. The nodes in the graphs are operations, and data flows along the edges of the graph.\n",
    "\n",
    "![tensorflow graph example](https://www.tensorflow.org/images/tensors_flowing.gif)\n",
    "\n",
    "The first step in creating a model will be defining the graph operations that correspond to the model. Tensorflow provides many convenience functions to define the nodes of the graphs, which are called *ops*."
   ]
  },
  {
   "cell_type": "code",
   "execution_count": 1,
   "metadata": {
    "collapsed": true
   },
   "outputs": [],
   "source": [
    "import tensorflow as tf\n",
    "import numpy as np"
   ]
  },
  {
   "cell_type": "code",
   "execution_count": 2,
   "metadata": {},
   "outputs": [
    {
     "data": {
      "text/plain": [
       "array([11])"
      ]
     },
     "execution_count": 2,
     "metadata": {},
     "output_type": "execute_result"
    }
   ],
   "source": [
    "# In numpy, variables store values, and operators execute operations\n",
    "\n",
    "a = np.array([5])\n",
    "b = np.array([6])\n",
    "\n",
    "c = np.add(a, b)\n",
    "c"
   ]
  },
  {
   "cell_type": "code",
   "execution_count": 3,
   "metadata": {},
   "outputs": [
    {
     "data": {
      "text/plain": [
       "<tf.Tensor 'Add:0' shape=() dtype=int32>"
      ]
     },
     "execution_count": 3,
     "metadata": {},
     "output_type": "execute_result"
    }
   ],
   "source": [
    "# In tensorflow, on the other hand, operators define the result of the operation\n",
    "\n",
    "a_tf = tf.constant(5)\n",
    "b_tf = tf.constant(6)\n",
    "\n",
    "c_tf = tf.add(a_tf, b_tf)\n",
    "c_tf # Here, c_tf is not the sum, but rather, represents the operation of summing"
   ]
  },
  {
   "cell_type": "code",
   "execution_count": 4,
   "metadata": {},
   "outputs": [
    {
     "name": "stdout",
     "output_type": "stream",
     "text": [
      "11\n"
     ]
    }
   ],
   "source": [
    "# In order to obtain the value, we must ask tensorflow to execute the operation\n",
    "# We will go in much more detail later.\n",
    "\n",
    "with tf.Session() as sess:\n",
    "    print(sess.run(c_tf))"
   ]
  },
  {
   "cell_type": "markdown",
   "metadata": {},
   "source": [
    "### The default graph\n",
    "\n",
    "Notice how we have not specified any graph in our code above? By default, tensorflow creates a global graph for us. However, this may sometimes be undesirable, and it is often better to be explicit in creating a graph and setting it as the default graph using the `as_default_graph` and the `with` construct. In particular, we should be careful when running things in a notebook, as creating tensors is not idempotent!"
   ]
  },
  {
   "cell_type": "code",
   "execution_count": 5,
   "metadata": {},
   "outputs": [
    {
     "data": {
      "text/plain": [
       "<tf.Tensor 'a:0' shape=() dtype=int32>"
      ]
     },
     "execution_count": 5,
     "metadata": {},
     "output_type": "execute_result"
    }
   ],
   "source": [
    "# If you run this multiple times, you will see the name\n",
    "# of the generated constant change!\n",
    "\n",
    "# This is because a constant already exists with the given name,\n",
    "# and the name must be unique.\n",
    "x = tf.constant(4, name='a')\n",
    "x"
   ]
  },
  {
   "cell_type": "code",
   "execution_count": 6,
   "metadata": {
    "collapsed": true
   },
   "outputs": [],
   "source": [
    "# This can be particularly bad with get_variable, which will not\n",
    "# try to rename your variables (it is better)\n",
    "\n",
    "# run twice to get an error\n",
    "\n",
    "x = tf.get_variable('a', initializer=0)"
   ]
  },
  {
   "cell_type": "code",
   "execution_count": 7,
   "metadata": {},
   "outputs": [
    {
     "data": {
      "text/plain": [
       "<tf.Tensor 'a:0' shape=() dtype=int32>"
      ]
     },
     "execution_count": 7,
     "metadata": {},
     "output_type": "execute_result"
    }
   ],
   "source": [
    "# Here we explicitly set a default graph\n",
    "# for the duration of the with block.\n",
    "\n",
    "# This is usually much better and allows us to\n",
    "# avoid some hard to diagnose errors.\n",
    "\n",
    "with tf.Graph().as_default():\n",
    "    x = tf.constant(4, name='a')\n",
    "x"
   ]
  },
  {
   "cell_type": "markdown",
   "metadata": {},
   "source": [
    "## Executing the computation: sessions\n",
    "\n",
    "Tensorflow uses the notion of a `tf.Session` to execute the computation. The session is used to manage the resources allocated to the execution, which is particularly important in the case of GPU execution. In particular, variables have no particular value outside of a session.\n",
    "\n",
    "In most cases, it is best to separate the definition of the computation from its execution. We will thus usually create a graph completely, then create a session and execute the required computation.\n",
    "\n",
    "When working in notebooks, it may be useful to use the `tf.InteractiveSession`, which registers itself as the default session.\n",
    "\n",
    "Note that each graph may only correspond to one session, and we must create the session with the default graph being in scope."
   ]
  },
  {
   "cell_type": "code",
   "execution_count": 8,
   "metadata": {},
   "outputs": [
    {
     "name": "stdout",
     "output_type": "stream",
     "text": [
      "b'Hello world'\n"
     ]
    }
   ],
   "source": [
    "with tf.Graph().as_default():\n",
    "    x = tf.constant('Hello world')\n",
    "    with tf.Session() as sess:\n",
    "        print(sess.run(x))"
   ]
  },
  {
   "cell_type": "markdown",
   "metadata": {},
   "source": [
    "## Tensors\n",
    "\n",
    "Tensorflow is mostly designed to compute on tensors: multidimensional arrays of numerical data. They are conceptual similar\n",
    "to numpy's `np.ndarray`. Each tensor is characterised by two properties: its datatype (most often `tf.float32` or `tf.int32`), and its shape (e.g. 10 x 4, 20 x 10 x 3, 64 x 32 x 32 x 3). Each operation takes tensors as input, and produce tensors as output.\n",
    "\n",
    "Additionally, all tensors can be named in tensorflow. This does not change its computational meaning, but can be very useful when trying to debug models and visualizing the created graphs.\n",
    "\n",
    "Two types of tensors will be particularly notable, `tf.Variable` and `tf.Placeholder`.\n",
    "\n",
    "### Variables\n",
    "\n",
    "Variables can be assigned values, and will remember those values across calls to `session.run`. This is the type we will use to define weights and biases in our networks.\n",
    "\n",
    "### Placeholder\n",
    "\n",
    "Placeholders are given values at runtime (when we call `session.run`). They allow us to pass arguments to the tensorflow operations we are about to use. We will often use them to provide the training data.\n",
    "\n",
    "## Operation on tensors\n",
    "\n",
    "Tensorflow defines numerous operation on tensors, including pointwise arithmetic, tensor dot product, convolutions, etc. Tensorflow also overloads the normal python operators, however be careful of the exact semantics of the overload if you do use them. Operation on tensors provide one or more tensors as output."
   ]
  },
  {
   "cell_type": "code",
   "execution_count": 9,
   "metadata": {},
   "outputs": [
    {
     "name": "stdout",
     "output_type": "stream",
     "text": [
      "[[  3.   4.]\n",
      " [ 11.  16.]]\n"
     ]
    }
   ],
   "source": [
    "# Multiplying 2 x 2 tensors in tensorflow\n",
    "\n",
    "a = tf.constant([[0, 1], [2,3]], dtype=tf.float32)\n",
    "b = tf.constant([[1, 2], [3, 4]], dtype=tf.float32)\n",
    "\n",
    "matmul = tf.matmul(a, b)\n",
    "\n",
    "with tf.Session() as sess:\n",
    "    print(sess.run(matmul))"
   ]
  },
  {
   "cell_type": "code",
   "execution_count": 10,
   "metadata": {},
   "outputs": [
    {
     "name": "stdout",
     "output_type": "stream",
     "text": [
      "0\n",
      "1\n"
     ]
    }
   ],
   "source": [
    "# An example in using variables\n",
    "\n",
    "with tf.Graph().as_default():\n",
    "    # create a variable with initial value 0\n",
    "    a = tf.get_variable('variable_1', initializer=0)\n",
    "    \n",
    "    # this operation represents assigning the value 1 to a\n",
    "    # Note that it does not run it!\n",
    "    assign_to_a = tf.assign(a, 1)\n",
    "    \n",
    "    with tf.Session() as sess:\n",
    "        # Note that variables must be initialized before they are used\n",
    "        sess.run(tf.global_variables_initializer())\n",
    "        print(sess.run(a))\n",
    "        sess.run(assign_to_a)\n",
    "        print(sess.run(a))"
   ]
  },
  {
   "cell_type": "code",
   "execution_count": 11,
   "metadata": {},
   "outputs": [
    {
     "name": "stdout",
     "output_type": "stream",
     "text": [
      "6.0\n",
      "15.0\n"
     ]
    }
   ],
   "source": [
    "# An example in using placeholders\n",
    "\n",
    "with tf.Graph().as_default():\n",
    "    # We need to define the shape of the placeholder.\n",
    "    # Use none to indicate that the extent is unknown\n",
    "    a = tf.placeholder(tf.float32, shape=[None])\n",
    "    \n",
    "    sum_a = tf.reduce_sum(a)\n",
    "    \n",
    "    with tf.Session() as sess:\n",
    "        # We provide the data when running using the feed_dict\n",
    "        print(sess.run(sum_a, feed_dict={a: [1, 2, 3]}))\n",
    "        print(sess.run(sum_a, feed_dict={a: [4, 5, 6]}))"
   ]
  },
  {
   "cell_type": "markdown",
   "metadata": {
    "collapsed": true
   },
   "source": [
    "## Random variables\n",
    "\n",
    "Tensorflow is also able to generate random variables, by defining random tensors. These variables produce a new value according to the given distribution every time they are run. It is possible to control the sequence of generated random variables through a seed, although one must be careful that the graph is identical."
   ]
  },
  {
   "cell_type": "code",
   "execution_count": 14,
   "metadata": {},
   "outputs": [
    {
     "name": "stdout",
     "output_type": "stream",
     "text": [
      "[ 0.29278779  0.26010638  0.4999249  -1.2256645  -0.82805097  0.73793298\n",
      "  0.85611039  0.47202969  0.58499163  0.99922848]\n"
     ]
    }
   ],
   "source": [
    "with tf.Graph().as_default():\n",
    "    x = tf.random_normal(shape=[10])\n",
    "    \n",
    "    with tf.Session() as sess:\n",
    "        print(sess.run(x))"
   ]
  },
  {
   "cell_type": "markdown",
   "metadata": {},
   "source": [
    "# Putting it together: some short examples\n",
    "\n",
    "We will run some short (non-statistical) examples in tensorflow to illustrate the concepts we have learned above."
   ]
  },
  {
   "cell_type": "markdown",
   "metadata": {},
   "source": [
    "### Computing the sum of the first 100 integers"
   ]
  },
  {
   "cell_type": "code",
   "execution_count": 15,
   "metadata": {
    "collapsed": true
   },
   "outputs": [],
   "source": [
    "# Let us compute the sum of the 100 first integers in tensorflow\n",
    "\n",
    "tf.reset_default_graph()\n",
    "\n",
    "# define our variables\n",
    "current = tf.get_variable('current', initializer = 0)\n",
    "running_sum = tf.get_variable('sum', initializer = 0)\n",
    "\n",
    "# now define the steps to be taken.\n",
    "\n",
    "increment_sum = running_sum.assign_add(current)\n",
    "increment_current = current.assign_add(1)\n",
    "\n",
    "# At this point, we have only defined the operations, but not executed anything.\n",
    "# We need to instantiate a session to execute the operations."
   ]
  },
  {
   "cell_type": "code",
   "execution_count": 16,
   "metadata": {},
   "outputs": [
    {
     "name": "stdout",
     "output_type": "stream",
     "text": [
      "Total sum is 4950\n"
     ]
    }
   ],
   "source": [
    "# Let's now run it all:\n",
    "\n",
    "with tf.Session() as sess:\n",
    "    sess.run(tf.global_variables_initializer())\n",
    "    \n",
    "    for i in range(100):\n",
    "        sess.run(increment_sum)\n",
    "        sess.run(increment_current)\n",
    "    \n",
    "    print('Total sum is {0}'.format(sess.run(running_sum)))"
   ]
  },
  {
   "cell_type": "markdown",
   "metadata": {},
   "source": [
    "### Computing the mean of an array"
   ]
  },
  {
   "cell_type": "code",
   "execution_count": 17,
   "metadata": {
    "collapsed": true
   },
   "outputs": [],
   "source": [
    "# Let us compute the average of some data using tensorflow\n",
    "\n",
    "tf.reset_default_graph()\n",
    "\n",
    "# define the input\n",
    "\n",
    "# This is a placeholder to receive the data for which we wish to compute\n",
    "# the mean. We can think of it as an argument to a function.\n",
    "data = tf.placeholder(tf.float32, [None])\n",
    "\n",
    "# define an operation which computes the mean\n",
    "mean = tf.reduce_mean(data)"
   ]
  },
  {
   "cell_type": "code",
   "execution_count": 18,
   "metadata": {},
   "outputs": [
    {
     "name": "stdout",
     "output_type": "stream",
     "text": [
      "1.5\n",
      "3.5\n"
     ]
    }
   ],
   "source": [
    "# Let's now run it all\n",
    "\n",
    "with tf.Session() as sess:\n",
    "    sess.run(tf.global_variables_initializer())\n",
    "    \n",
    "    print(sess.run(mean, feed_dict={data: [1, 2, 1, 2]}))\n",
    "    print(sess.run(mean, feed_dict={data: [3, 4, 3, 4]}))"
   ]
  },
  {
   "cell_type": "markdown",
   "metadata": {},
   "source": [
    "### Generating a random array of a given size"
   ]
  },
  {
   "cell_type": "code",
   "execution_count": 24,
   "metadata": {
    "collapsed": true
   },
   "outputs": [],
   "source": [
    "tf.reset_default_graph()\n",
    "\n",
    "# define the input for the size of the random variates\n",
    "size = tf.placeholder(tf.int64, [1])\n",
    "\n",
    "# define the operation that generates random normals\n",
    "normals = tf.random_normal(size)"
   ]
  },
  {
   "cell_type": "code",
   "execution_count": 26,
   "metadata": {},
   "outputs": [
    {
     "name": "stdout",
     "output_type": "stream",
     "text": [
      "[ 0.44173703 -0.14030108]\n",
      "[ 0.93984336  1.60454285]\n",
      "[-1.56438577 -1.06462216 -0.09195652]\n"
     ]
    }
   ],
   "source": [
    "# Let's run it\n",
    "\n",
    "# Note that as we have not executed anything yet,\n",
    "# no random numbers have been generated.\n",
    "\n",
    "# We thus expect different numbers every time we run the session\n",
    "\n",
    "with tf.Session() as sess:\n",
    "    sess.run(tf.global_variables_initializer())\n",
    "    \n",
    "    print(sess.run(normals, feed_dict={size: [2]}))\n",
    "    print(sess.run(normals, feed_dict={size: [2]}))\n",
    "    print(sess.run(normals, feed_dict={size: [3]}))"
   ]
  }
 ],
 "metadata": {
  "kernelspec": {
   "display_name": "Python 3",
   "language": "python",
   "name": "python3"
  },
  "language_info": {
   "codemirror_mode": {
    "name": "ipython",
    "version": 3
   },
   "file_extension": ".py",
   "mimetype": "text/x-python",
   "name": "python",
   "nbconvert_exporter": "python",
   "pygments_lexer": "ipython3",
   "version": "3.6.2"
  }
 },
 "nbformat": 4,
 "nbformat_minor": 2
}

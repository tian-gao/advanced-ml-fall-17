{
 "cells": [
  {
   "cell_type": "markdown",
   "metadata": {},
   "source": [
    "# Tensorflow tutorial: a simple logistic regression example\n",
    "\n",
    "In this notebook, we will implement a simple logistic regression example using tensorflow. We will apply the basic concepts of tensorflow to implement logistic regression using gradient descent on the mnist dataset. The mnist handwritten digit recognition dataset is a very classical dataset. It presents no challenge today, and best known algorithms can reach an accuracy of 99+%. However, it can still be instructive as an example."
   ]
  },
  {
   "cell_type": "code",
   "execution_count": 1,
   "metadata": {
    "collapsed": true
   },
   "outputs": [],
   "source": [
    "import tensorflow as tf\n",
    "import numpy as np"
   ]
  },
  {
   "cell_type": "code",
   "execution_count": 2,
   "metadata": {
    "collapsed": true
   },
   "outputs": [],
   "source": [
    "import matplotlib.pyplot as plt\n",
    "%matplotlib inline"
   ]
  },
  {
   "cell_type": "code",
   "execution_count": 40,
   "metadata": {},
   "outputs": [
    {
     "name": "stdout",
     "output_type": "stream",
     "text": [
      "Extracting ../data/mnist\\train-images-idx3-ubyte.gz\n",
      "Extracting ../data/mnist\\train-labels-idx1-ubyte.gz\n",
      "Extracting ../data/mnist\\t10k-images-idx3-ubyte.gz\n",
      "Extracting ../data/mnist\\t10k-labels-idx1-ubyte.gz\n"
     ]
    }
   ],
   "source": [
    "# Let's import the data and have a look first\n",
    "\n",
    "from tensorflow.examples.tutorials.mnist import input_data\n",
    "mnist = input_data.read_data_sets('../data/mnist', one_hot=True)"
   ]
  },
  {
   "cell_type": "markdown",
   "metadata": {},
   "source": [
    "The mnist images are 28 x 28 grayscale images, and hence can be represented as vectors of length 784. Modern image algorithms work on much larger images, and usually 3 colour channels (rgb). The training dataset will thus often be represented as a 4-dimensional tensor (sample, height, width, channel), or (sample, channel, heigth, width). In this example, we will simply use the images as a long vector, and our dateset will thus be represented as a 2-dimensional tensor (sample, pixel)."
   ]
  },
  {
   "cell_type": "code",
   "execution_count": 7,
   "metadata": {},
   "outputs": [
    {
     "name": "stdout",
     "output_type": "stream",
     "text": [
      "(784,)\n"
     ]
    },
    {
     "data": {
      "image/png": "[encoded data removed]",
      "text/plain": [
       "<matplotlib.figure.Figure at 0x22c05249390>"
      ]
     },
     "metadata": {},
     "output_type": "display_data"
    }
   ],
   "source": [
    "print(mnist.train.images[121].shape)\n",
    "plt.imshow(mnist.train.images[121].reshape(28,28),cmap='gray')\n",
    "plt.show()"
   ]
  },
  {
   "cell_type": "markdown",
   "metadata": {},
   "source": [
    "## One-hot encoding\n",
    "\n",
    "One-hot encoding is a commonly used form to encode the labels. It transform the label into a vector $(0, 0, \\dotsc, 1, \\dotsc, 0)$, where the $1$ is at the index corresponding to the label. In our case, this transforms the vector of labels into a matrix, with each row corresponding to a one-hot encoded label."
   ]
  },
  {
   "cell_type": "code",
   "execution_count": 9,
   "metadata": {},
   "outputs": [
    {
     "data": {
      "text/plain": [
       "array([[ 0.,  0.,  0., ...,  1.,  0.,  0.],\n",
       "       [ 0.,  0.,  0., ...,  0.,  0.,  0.],\n",
       "       [ 0.,  0.,  0., ...,  0.,  0.,  0.],\n",
       "       ..., \n",
       "       [ 0.,  0.,  0., ...,  0.,  0.,  0.],\n",
       "       [ 0.,  0.,  0., ...,  0.,  0.,  0.],\n",
       "       [ 0.,  0.,  0., ...,  0.,  1.,  0.]])"
      ]
     },
     "execution_count": 9,
     "metadata": {},
     "output_type": "execute_result"
    }
   ],
   "source": [
    "mnist.train.labels"
   ]
  },
  {
   "cell_type": "markdown",
   "metadata": {},
   "source": [
    "## Logistic regression\n",
    "\n",
    "We quickly recall multiclass logistic regression. In multiclass logistic regression, we output a linear predictor for each possible outcome class, and then compute the respective probabilities as the softmax. To obtain the estimator, we simply minimize the cross-entropy loss with the true data. We will use gradient descent to do so.\n",
    "\n",
    "## Gradient descent in Tensorflow\n",
    "\n",
    "One of the main features of tensorflow is the possibility to automatically compute gradients (by using the back-propagation rule you learned in class). This means that tensorflow can automate the implementation of gradient descent for us. We will be using an automatically provided gradient for this example."
   ]
  },
  {
   "cell_type": "code",
   "execution_count": 24,
   "metadata": {
    "collapsed": true
   },
   "outputs": [],
   "source": [
    "# If you get errors everywhere, your graph has gone slightly haywire.\n",
    "# Just run this cell to reset everything\n",
    "\n",
    "tf.reset_default_graph()"
   ]
  },
  {
   "cell_type": "code",
   "execution_count": 25,
   "metadata": {
    "collapsed": true
   },
   "outputs": [],
   "source": [
    "# Define the model and the training setup\n",
    "\n",
    "x = tf.placeholder(tf.float32, [None, 784]) # the image\n",
    "y = tf.placeholder(tf.float32, [None, 10]) # the one-hot label\n",
    "\n",
    "W = tf.get_variable('W', shape=[784, 10])\n",
    "b = tf.get_variable('b', shape=[10])\n",
    "\n",
    "logits = tf.add(tf.matmul(x, W), b, name='logits')\n",
    "y_pred = tf.nn.softmax(logits, name='y_pred') # the predicted probability for each example.\n",
    "\n",
    "# Compute the average cross-entropy across all the examples.\n",
    "cross_entropy = tf.reduce_mean(-tf.reduce_sum(y * tf.log(y_pred), axis=[1]))\n",
    "\n",
    "opt = tf.train.GradientDescentOptimizer(learning_rate=0.5)\n",
    "train_step = opt.minimize(cross_entropy)        "
   ]
  },
  {
   "cell_type": "code",
   "execution_count": 26,
   "metadata": {
    "collapsed": true
   },
   "outputs": [],
   "source": [
    "# Define some operations to measure accuracy\n",
    "\n",
    "prediction = tf.argmax(logits, 1, name='pred_class')\n",
    "true_label = tf.argmax(y, 1, name='true_class')\n",
    "accuracy = tf.reduce_mean(tf.cast(tf.equal(prediction, true_label), tf.float32))"
   ]
  },
  {
   "cell_type": "code",
   "execution_count": 27,
   "metadata": {},
   "outputs": [
    {
     "name": "stdout",
     "output_type": "stream",
     "text": [
      "Step 1: accuracy is 0.08940000087022781\n",
      "Step 101: accuracy is 0.9077997207641602\n",
      "Step 201: accuracy is 0.9185997247695923\n",
      "Step 301: accuracy is 0.9275997877120972\n",
      "Step 401: accuracy is 0.9337997436523438\n",
      "Step 501: accuracy is 0.9365997910499573\n",
      "Step 601: accuracy is 0.9395997524261475\n",
      "Step 701: accuracy is 0.9433997273445129\n",
      "Step 801: accuracy is 0.9463996887207031\n",
      "Step 901: accuracy is 0.9475997090339661\n",
      "Accuracy on test set: 0.9052000045776367\n"
     ]
    }
   ],
   "source": [
    "# Let's run it!\n",
    "\n",
    "with tf.Session() as sess:\n",
    "    sess.run(tf.global_variables_initializer())\n",
    "    \n",
    "    for i in range(1000):\n",
    "        _, ac = sess.run((train_step, accuracy), feed_dict={x: mnist.train.images[:5000,:], y: mnist.train.labels[:5000, :]})\n",
    "        \n",
    "        if i % 100 == 0:\n",
    "            print('Step {0}: accuracy is {1}'.format(i + 1, ac))\n",
    "    \n",
    "    ac = sess.run(accuracy, feed_dict={x: mnist.test.images, y: mnist.test.labels})\n",
    "    print('Accuracy on test set: {0}'.format(ac))"
   ]
  },
  {
   "cell_type": "markdown",
   "metadata": {},
   "source": [
    "## Doing it better: tensorflow code tips\n",
    "\n",
    "Although the code above is perfectly functional, it has numerous issues in terms of maintanability, and is very prone to errors (for example, we can only run the cell once). Below, we explore some tensorflow features and code guidelines to make tensorflow code more reliable."
   ]
  },
  {
   "cell_type": "code",
   "execution_count": null,
   "metadata": {
    "collapsed": true
   },
   "outputs": [],
   "source": [
    "# It is often advantageous to define the model parts in a function\n",
    "# This makes them reusable. More complex models will often be composed\n",
    "# of similar parts stuck together.\n",
    "\n",
    "def compute_logits(x):\n",
    "    \"\"\"Compute the logits of the model\"\"\"\n",
    "    W = tf.get_variable('W', shape=[784, 10])\n",
    "    b = tf.get_variable('b', shape=[10])\n",
    "    \n",
    "    logits = tf.add(tf.matmul(x, W), b, name='logits')\n",
    "    return logits\n",
    "\n",
    "# Note: this function is implemented in tensorflow as\n",
    "# tf.nn.softmax_cross_entropy_with_logits\n",
    "\n",
    "# We have included it here for illustration only, please don't use it.\n",
    "def compute_cross_entropy(logits, y):\n",
    "    y_pred = tf.nn.softmax(logits, name='y_pred') # the predicted probability for each example.\n",
    "\n",
    "    # Compute the average cross-entropy across all the examples.\n",
    "    cross_entropy = tf.reduce_mean(-tf.reduce_sum(y * tf.log(y_pred), axis=[1]))\n",
    "    return cross_entropy\n",
    "\n",
    "def compute_accuracy(logits, y):\n",
    "    prediction = tf.argmax(logits, 1, name='pred_class')\n",
    "    true_label = tf.argmax(y, 1, name='true_class')\n",
    "    accuracy = tf.reduce_mean(tf.cast(tf.equal(prediction, true_label), tf.float32))\n",
    "    return accuracy"
   ]
  },
  {
   "cell_type": "code",
   "execution_count": 45,
   "metadata": {
    "collapsed": true
   },
   "outputs": [],
   "source": [
    "# We can also define our training loop as a separate function.\n",
    "\n",
    "def train_model(train_step, accuracy, inputs):\n",
    "    x, y = inputs\n",
    "    \n",
    "    with tf.Session() as sess:\n",
    "        sess.run(tf.global_variables_initializer())\n",
    "    \n",
    "        for i in range(1000):\n",
    "            _, ac = sess.run((train_step, accuracy), feed_dict={x: mnist.train.images[:5000,:], y: mnist.train.labels[:5000, :]})\n",
    "\n",
    "            if i % 100 == 0:\n",
    "                print('Step {0}: accuracy is {1}'.format(i + 1, ac))\n",
    "\n",
    "        ac = sess.run(accuracy, feed_dict={x: mnist.test.images, y: mnist.test.labels})\n",
    "        print('Accuracy on test set: {0}'.format(ac))"
   ]
  },
  {
   "cell_type": "code",
   "execution_count": 46,
   "metadata": {},
   "outputs": [
    {
     "name": "stdout",
     "output_type": "stream",
     "text": [
      "Step 1: accuracy is 0.12759998440742493\n",
      "Step 101: accuracy is 0.8617997169494629\n",
      "Step 201: accuracy is 0.9401997327804565\n",
      "Step 301: accuracy is 0.9455996751785278\n",
      "Step 401: accuracy is 0.9555997848510742\n",
      "Step 501: accuracy is 0.9695996642112732\n",
      "Step 601: accuracy is 0.9681997299194336\n",
      "Step 701: accuracy is 0.9745997786521912\n",
      "Step 801: accuracy is 0.9757997393608093\n",
      "Step 901: accuracy is 0.9719997644424438\n",
      "Accuracy on test set: 0.8773000240325928\n",
      "Done in 17.55894879448323 seconds\n"
     ]
    }
   ],
   "source": [
    "# As we mentioned in the introduction tutorial, it is better\n",
    "# to be explicit about the default graph\n",
    "\n",
    "# We put everything together in here.\n",
    "import time\n",
    "\n",
    "t_begin = time.perf_counter()\n",
    "\n",
    "with tf.Graph().as_default():\n",
    "    x = tf.placeholder(tf.float32, [None, 784], name='x')\n",
    "    y = tf.placeholder(tf.float32, [None, 10], name='y')\n",
    "    \n",
    "    logits = compute_logits(x)\n",
    "    loss = compute_cross_entropy(logits, y)\n",
    "    accuracy = compute_accuracy(logits, y)\n",
    "    \n",
    "    opt = tf.train.GradientDescentOptimizer(0.5)\n",
    "    train_step = opt.minimize(loss)\n",
    "    \n",
    "    train_model(train_step, accuracy, (x, y))\n",
    "\n",
    "t_end = time.perf_counter()\n",
    "print('Done in {0} seconds'.format(t_end - t_begin))"
   ]
  }
 ],
 "metadata": {
  "kernelspec": {
   "display_name": "Python 3",
   "language": "python",
   "name": "python3"
  },
  "language_info": {
   "codemirror_mode": {
    "name": "ipython",
    "version": 3
   },
   "file_extension": ".py",
   "mimetype": "text/x-python",
   "name": "python",
   "nbconvert_exporter": "python",
   "pygments_lexer": "ipython3",
   "version": "3.6.2"
  }
 },
 "nbformat": 4,
 "nbformat_minor": 2
}
